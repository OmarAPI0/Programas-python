{
 "cells": [
  {
   "cell_type": "code",
   "execution_count": null,
   "id": "5afd7b82-a05d-45b3-9392-f5b7e10a10cd",
   "metadata": {},
   "outputs": [
    {
     "name": "stdout",
     "output_type": "stream",
     "text": [
      "DICIONARIO DE CONTACTOS\n",
      "\n"
     ]
    }
   ],
   "source": [
    "#### Ejercicio 1: Agenda de contactos (Diccionario + listas)\n",
    "#Crea un programa que:\n",
    "#Le pida al usuario 3 contactos (nombre y número de teléfono).\n",
    "#Guarde los contactos en un diccionario, donde la clave sea el nombre y el valor el número.\n",
    "#Luego:\n",
    "#Muestre todas las claves (nombres).\n",
    "#Muestre todos los valores (números).\n",
    "#Pregunte si quiere eliminar un contacto (usando del).\n",
    "\n",
    "print(\"DICIONARIO DE CONTACTOS\\n\")\n",
    "\n",
    "contacto_name=input(\"Ingrese el nombre del primer contacto: \")\n",
    "contacto_numero=input(\"Ingrese el numero del primer contacto: \")\n",
    "\n",
    "contacto_name1=input(\"Ingrese el nombre del segundo contacto: \")\n",
    "contacto_numero1=input(\"Ingrese el numero del segundo contacto: \")\n",
    "\n",
    "contacto_name2=input(\"Ingrese el nombre del tercer contacto: \")\n",
    "contacto_numero2=input(\"Ingrese el numero del tercer contacto: \")\n",
    "\n",
    "print(\"Resultados\\n\")\n",
    "\n",
    "Contacto={}\n",
    "Contacto[contacto_name]= contacto_numero\n",
    "Contacto[contacto_name1]=contacto_numero1\n",
    "Contacto[contacto_name2]=contacto_numero2\n",
    "\n",
    "print(\"Todas las claves son: \\n\")\n",
    "print(Contacto.keys())\n",
    "\n",
    "print(\"Todo los valores son: \\n\")\n",
    "print(Contacto.values())\n",
    "\n",
    "print(\"CONTACTOS ACTUALES: \", Contacto)\n",
    "\n",
    "eliminar=input(\"Quiere eliminar un contacto: pulse 1 si lo desea ,pulse 0 de lo contrario\")\n",
    "contacto_eliminar=input(\"Ingrese el contacto a eliminar: \")\n",
    "if eliminar == \"1\":del(Contacto[contacto_eliminar])\n",
    "\n",
    "print(\"LISTA ACTUALIZADA\\n\")\n",
    "print(Contacto)\n"
   ]
  },
  {
   "cell_type": "code",
   "execution_count": 46,
   "id": "ee65bb54-083d-4799-bfd0-8f7a3ff610c8",
   "metadata": {},
   "outputs": [
    {
     "name": "stdout",
     "output_type": "stream",
     "text": [
      "CARRITO DE COMPRA\n",
      "\n"
     ]
    },
    {
     "name": "stdin",
     "output_type": "stream",
     "text": [
      "Ingrese el primer producto:  queso\n",
      "Ingrese el segundo producto:  leche\n",
      "Ingrese el tercer producto:  limon\n"
     ]
    },
    {
     "name": "stdout",
     "output_type": "stream",
     "text": [
      "['queso', 'leche', 'limon']\n"
     ]
    },
    {
     "name": "stdin",
     "output_type": "stream",
     "text": [
      "Quieres agregar mas productos: si es si pulse 1 si es no pulse 0 1\n",
      "Ingrese el otro producto vino\n"
     ]
    },
    {
     "name": "stdout",
     "output_type": "stream",
     "text": [
      "['queso', 'leche', 'limon', 'vino']\n"
     ]
    },
    {
     "name": "stdin",
     "output_type": "stream",
     "text": [
      "Ingrese la posicion donde esta el producto que desea cambiar:  2\n",
      "ingrese el nombre del producto que quiere agregar:  pan\n"
     ]
    },
    {
     "name": "stdout",
     "output_type": "stream",
     "text": [
      "['queso', 'leche', 'pan', 'vino']\n"
     ]
    },
    {
     "name": "stdin",
     "output_type": "stream",
     "text": [
      "Ingrese la posicion del producto que quiere eliminar:  3\n"
     ]
    },
    {
     "name": "stdout",
     "output_type": "stream",
     "text": [
      "['queso', 'leche', 'pan']\n",
      "la Cantidad de producto es: 3 \n"
     ]
    }
   ],
   "source": [
    "# Ejercicio 2: Carrito de compras (Listas + métodos)\n",
    "#Empieza con una lista vacía carrito = [].\n",
    "#Pídele al usuario que agregue productos con append() (mínimo 3 productos).\n",
    "#Pregúntale si quiere añadir más productos de otra lista (usa extend()).\n",
    "#Modifica un producto (ej: cambiar “arroz” por “habichuelas”).\n",
    "#Elimina un producto con del.\n",
    "#Finalmente, imprime el carrito completo y cuántos productos hay (len()).\n",
    "\n",
    "print(\"CARRITO DE COMPRA\\n\")\n",
    "\n",
    "Carrito=[]\n",
    "producto=input(\"Ingrese el primer producto: \")\n",
    "producto1=input(\"Ingrese el segundo producto: \")\n",
    "producto2=input(\"Ingrese el tercer producto: \")\n",
    "\n",
    "Carrito.append(producto)\n",
    "Carrito.append(producto1)\n",
    "Carrito.append(producto2)\n",
    "print(Carrito)\n",
    "\n",
    "masproducto=input(\"Quieres agregar mas productos: si es si pulse 1 si es no pulse 0\")\n",
    "if masproducto == \"1\": new_product=input(\"Ingrese el otro producto\")\n",
    "#else: print(\"No quisiste agregar mas productos\")\n",
    "Carrito.extend([new_product])\n",
    "print(Carrito)\n",
    "\n",
    "cambiar=int(input(\"Ingrese la posicion donde esta el producto que desea cambiar: \"))\n",
    "cambio=input(\"ingrese el nombre del producto que quiere agregar: \")\n",
    "Carrito[cambiar]=cambio\n",
    "print(Carrito)\n",
    "\n",
    "eliminar=int(input(\"Ingrese la posicion del producto que quiere eliminar: \"))\n",
    "del(Carrito[eliminar])\n",
    "print(Carrito)\n",
    "\n",
    "print(f\"la Cantidad de producto es: {len(Carrito)} \")\n",
    "\n",
    "\n"
   ]
  },
  {
   "cell_type": "code",
   "execution_count": 45,
   "id": "1f3ea4e9-c7f4-4fb6-a0e8-d13372903743",
   "metadata": {},
   "outputs": [
    {
     "name": "stdout",
     "output_type": "stream",
     "text": [
      "ANALISIS DE NOTAS\n",
      "\n"
     ]
    },
    {
     "name": "stdin",
     "output_type": "stream",
     "text": [
      "Ingrese la primer nota:  90\n",
      "Ingrese la segunda nota:  91\n",
      "Ingrese la tercera nota:  92\n",
      "Ingrese la cuarta nota:  93\n",
      "Ingrese la quinta nota:  94\n"
     ]
    },
    {
     "name": "stdout",
     "output_type": "stream",
     "text": [
      "La nota en la duplas son:  (90, 91, 92, 93, 94)\n",
      "Las nota en la lista son:  [90, 91, 92, 93, 94]\n"
     ]
    },
    {
     "name": "stdin",
     "output_type": "stream",
     "text": [
      "Ingrese la posicion de la nota mas baja para eliminarla:  0\n",
      "ingrese la nueva nota:  100\n"
     ]
    },
    {
     "name": "stdout",
     "output_type": "stream",
     "text": [
      "[100, 91, 92, 93, 94]\n",
      "[100, 91, 92, 93, 94]\n",
      "Notas total: 5\n"
     ]
    }
   ],
   "source": [
    "#Ejercicio 3: Análisis de notas (Tuplas + listas)\n",
    "#Crea una tupla de notas con 5 calificaciones (ej: (70, 85, 90, 60, 100)).\n",
    "#Convierte la tupla a lista.\n",
    "#Elimina la nota más baja (del) y reemplázala por otra que el usuario ingrese.\n",
    "#Duplica la lista para simular que tienes dos grupos de estudiantes.\n",
    "#Imprime la cantidad total de notas con len().\n",
    "\n",
    "print(\"ANALISIS DE NOTAS\\n\")\n",
    "\n",
    "calificacion=int(input(\"Ingrese la primer nota: \"))\n",
    "calificacion1=int(input(\"Ingrese la segunda nota: \"))\n",
    "calificacion2=int(input(\"Ingrese la tercera nota: \"))\n",
    "calificacion3=int(input(\"Ingrese la cuarta nota: \"))\n",
    "calificacion4=int(input(\"Ingrese la quinta nota: \"))\n",
    "Notas =(calificacion,calificacion1,calificacion2,calificacion3,calificacion4)\n",
    "print(f\"La nota en la duplas son: \",Notas)\n",
    "\n",
    "mi_lista=list(Notas)\n",
    "\n",
    "print(f\"Las nota en la lista son: \",mi_lista)\n",
    "\n",
    "notabaja=int(input(\"Ingrese la posicion de la nota mas baja para eliminarla: \"))\n",
    "nuevanota=int(input(\"ingrese la nueva nota: \"))\n",
    "mi_lista[notabaja] = nuevanota\n",
    "print(mi_lista)\n",
    "\n",
    "#duplicar lista\n",
    "Nuevalista=mi_lista[:]\n",
    "print(Nuevalista)\n",
    "print(f\"Notas total: {len(mi_lista)}\")"
   ]
  },
  {
   "cell_type": "code",
   "execution_count": null,
   "id": "8bfa3c38-c91a-4c9a-a9b9-3a8707e5680a",
   "metadata": {},
   "outputs": [],
   "source": []
  }
 ],
 "metadata": {
  "kernelspec": {
   "display_name": "Python 3 (ipykernel)",
   "language": "python",
   "name": "python3"
  },
  "language_info": {
   "codemirror_mode": {
    "name": "ipython",
    "version": 3
   },
   "file_extension": ".py",
   "mimetype": "text/x-python",
   "name": "python",
   "nbconvert_exporter": "python",
   "pygments_lexer": "ipython3",
   "version": "3.13.5"
  }
 },
 "nbformat": 4,
 "nbformat_minor": 5
}
