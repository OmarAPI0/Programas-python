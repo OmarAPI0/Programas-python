{
 "cells": [
  {
   "cell_type": "code",
   "execution_count": 15,
   "id": "75c59593-7faa-4b63-9842-133c1bc87ade",
   "metadata": {},
   "outputs": [
    {
     "name": "stdout",
     "output_type": "stream",
     "text": [
      "TABLA DE MULTIPLICAR\n"
     ]
    },
    {
     "name": "stdin",
     "output_type": "stream",
     "text": [
      "Ingrese el numero:  5\n"
     ]
    },
    {
     "name": "stdout",
     "output_type": "stream",
     "text": [
      "5 x 1 es 5\n",
      "5 x 2 es 10\n",
      "5 x 3 es 15\n",
      "5 x 4 es 20\n",
      "5 x 5 es 25\n",
      "5 x 6 es 30\n",
      "5 x 7 es 35\n",
      "5 x 8 es 40\n",
      "5 x 9 es 45\n",
      "5 x 10 es 50\n"
     ]
    }
   ],
   "source": [
    "# Crea una función que reciba un número y muestre su tabla de multiplicar del 1 \n",
    "# al 10 usando un bucle for\n",
    "\n",
    "print(\"TABLA DE MULTIPLICAR\")\n",
    "\n",
    "numero = int(input(\"Ingrese el numero: \"))\n",
    "def tabla_multiplicar(numero):\n",
    " for n in range(1,11):\n",
    "    print(f\"{numero} x {n} es {numero*n}\")\n",
    "tabla_multiplicar(numero)"
   ]
  },
  {
   "cell_type": "code",
   "execution_count": 51,
   "id": "9375f91b-bb8c-4360-a9f9-c1a6833bf3d8",
   "metadata": {},
   "outputs": [
    {
     "name": "stdin",
     "output_type": "stream",
     "text": [
      "ingrese la nota #1:  90\n",
      "ingrese la nota #1:  88\n",
      "ingrese la nota #1:  71\n",
      "ingrese la nota #1:  68\n",
      "ingrese la nota #1:  99\n"
     ]
    },
    {
     "name": "stdout",
     "output_type": "stream",
     "text": [
      "[90, 88, 71, 68, 99]\n",
      "el promedio es: 83.2\n",
      "La nota mas baja es  68\n",
      "La nota mas alta es  99\n",
      "NOTAS ORDENADAS\n",
      "\n",
      "[68, 71, 88, 90, 99]\n"
     ]
    }
   ],
   "source": [
    "# Ejercicio 2: Análisis de calificaciones (listas + funciones + sorted)\n",
    "# Pídele al usuario 5 notas y guárdalas en una lista.\n",
    "# Usa una función que calcule:\n",
    "# El promedio (con sum).\n",
    "# La nota más baja y más alta (con min y max o con sorted).\n",
    "# Imprime los resultados ordenando la lista de menor a mayor con sorted().\n",
    "  \n",
    "nota = int(input(\"ingrese la nota #1: \"))\n",
    "nota1 = int(input(\"ingrese la nota #1: \"))\n",
    "nota2 = int(input(\"ingrese la nota #1: \"))\n",
    "nota3 = int(input(\"ingrese la nota #1: \"))\n",
    "nota4 = int(input(\"ingrese la nota #1: \"))\n",
    "\n",
    "notas = []\n",
    "notas.append(nota)\n",
    "notas.append(nota1)\n",
    "notas.append(nota2)\n",
    "notas.append(nota3)\n",
    "notas.append(nota4)\n",
    "\n",
    "print(notas)\n",
    "\n",
    "def promedio (notas):\n",
    " suma =sum(notas)\n",
    " promediototal = suma /len(notas)\n",
    " return suma,promediototal\n",
    "    \n",
    "suma, promediototal= promedio(notas)\n",
    "notaminima = min(notas)\n",
    "notamaxima = max(notas)\n",
    "print(f\"el promedio es: {promediototal}\")\n",
    "print (\"La nota mas baja es \",notaminima)\n",
    "print(\"La nota mas alta es \",notamaxima)\n",
    "ordenar= sorted(notas)\n",
    "print(\"NOTAS ORDENADAS\\n\")\n",
    "print(ordenar)"
   ]
  },
  {
   "cell_type": "code",
   "execution_count": 82,
   "id": "3e055f8e-12d1-4af3-b7b6-68b83901d16b",
   "metadata": {},
   "outputs": [
    {
     "name": "stdout",
     "output_type": "stream",
     "text": [
      "\n",
      "QUE QUIERES REALIZAR\n",
      "\n"
     ]
    },
    {
     "name": "stdin",
     "output_type": "stream",
     "text": [
      "pulsa un numero para:\n",
      " 1-Agregar un elemento a la lista\n",
      " 2-Mostrar todo los elementos\n",
      " 3-Ordenar la lista de menor a mayor\n",
      " 4-Calcular la suma total de la lista\n",
      " 5-Salir\n",
      " 1\n",
      "Ingrese el valor:  100\n"
     ]
    },
    {
     "name": "stdout",
     "output_type": "stream",
     "text": [
      "\n",
      "QUE QUIERES REALIZAR\n",
      "\n"
     ]
    },
    {
     "name": "stdin",
     "output_type": "stream",
     "text": [
      "pulsa un numero para:\n",
      " 1-Agregar un elemento a la lista\n",
      " 2-Mostrar todo los elementos\n",
      " 3-Ordenar la lista de menor a mayor\n",
      " 4-Calcular la suma total de la lista\n",
      " 5-Salir\n",
      " 2\n"
     ]
    },
    {
     "name": "stdout",
     "output_type": "stream",
     "text": [
      "Los elementos de lista son:[100.0] \n",
      "\n",
      "QUE QUIERES REALIZAR\n",
      "\n"
     ]
    },
    {
     "name": "stdin",
     "output_type": "stream",
     "text": [
      "pulsa un numero para:\n",
      " 1-Agregar un elemento a la lista\n",
      " 2-Mostrar todo los elementos\n",
      " 3-Ordenar la lista de menor a mayor\n",
      " 4-Calcular la suma total de la lista\n",
      " 5-Salir\n",
      " 1\n",
      "Ingrese el valor:  900\n"
     ]
    },
    {
     "name": "stdout",
     "output_type": "stream",
     "text": [
      "\n",
      "QUE QUIERES REALIZAR\n",
      "\n"
     ]
    },
    {
     "name": "stdin",
     "output_type": "stream",
     "text": [
      "pulsa un numero para:\n",
      " 1-Agregar un elemento a la lista\n",
      " 2-Mostrar todo los elementos\n",
      " 3-Ordenar la lista de menor a mayor\n",
      " 4-Calcular la suma total de la lista\n",
      " 5-Salir\n",
      " 2\n"
     ]
    },
    {
     "name": "stdout",
     "output_type": "stream",
     "text": [
      "Los elementos de lista son:[100.0, 900.0] \n",
      "\n",
      "QUE QUIERES REALIZAR\n",
      "\n"
     ]
    },
    {
     "name": "stdin",
     "output_type": "stream",
     "text": [
      "pulsa un numero para:\n",
      " 1-Agregar un elemento a la lista\n",
      " 2-Mostrar todo los elementos\n",
      " 3-Ordenar la lista de menor a mayor\n",
      " 4-Calcular la suma total de la lista\n",
      " 5-Salir\n",
      " 3\n"
     ]
    },
    {
     "name": "stdout",
     "output_type": "stream",
     "text": [
      "Lista ordenada: [100.0, 900.0]\n",
      "\n",
      "QUE QUIERES REALIZAR\n",
      "\n"
     ]
    },
    {
     "name": "stdin",
     "output_type": "stream",
     "text": [
      "pulsa un numero para:\n",
      " 1-Agregar un elemento a la lista\n",
      " 2-Mostrar todo los elementos\n",
      " 3-Ordenar la lista de menor a mayor\n",
      " 4-Calcular la suma total de la lista\n",
      " 5-Salir\n",
      " 4\n"
     ]
    },
    {
     "name": "stdout",
     "output_type": "stream",
     "text": [
      "La suma total es: 1000.0\n",
      "\n",
      "QUE QUIERES REALIZAR\n",
      "\n"
     ]
    },
    {
     "name": "stdin",
     "output_type": "stream",
     "text": [
      "pulsa un numero para:\n",
      " 1-Agregar un elemento a la lista\n",
      " 2-Mostrar todo los elementos\n",
      " 3-Ordenar la lista de menor a mayor\n",
      " 4-Calcular la suma total de la lista\n",
      " 5-Salir\n",
      " 5\n"
     ]
    },
    {
     "name": "stdout",
     "output_type": "stream",
     "text": [
      "Has salido del bucle\n"
     ]
    }
   ],
   "source": [
    "##### Ejercicio 3: Menú interactivo con while\n",
    "# Haz un programa con un menú que se repita hasta que el usuario decida salir:\n",
    "# 1. Agregar un número a la lista  \n",
    "# 2. Mostrar todos los números  \n",
    "# 3. Ordenar la lista de menor a mayor  \n",
    "# 4. Calcular la suma total de la lista  \n",
    "# 5. Salir\n",
    "\n",
    "condicion = 1\n",
    "lista = []\n",
    "\n",
    "while condicion == 1:\n",
    "    print(\"\\nQUE QUIERES REALIZAR\\n\")\n",
    "    opcion = input(\"pulsa un numero para:\\n 1-Agregar un elemento a la lista\\n 2-Mostrar todo los elementos\\n 3-Ordenar la lista de menor a mayor\\n 4-Calcular la suma total de la lista\\n 5-Salir\\n\")\n",
    "    \n",
    "    if opcion == \"1\": \n",
    "        valor =float(input(\"Ingrese el valor: \"))\n",
    "        lista.append(valor)\n",
    "    if opcion == \"2\": \n",
    "        print(f\"Los elementos de lista son:{lista} \")\n",
    "    \n",
    "    if opcion == \"3\": \n",
    "        lista.sort() \n",
    "        print(f\"Lista ordenada: {lista}\")\n",
    "    \n",
    "    if opcion == \"4\": \n",
    "        suma = sum(lista)  \n",
    "        print(f\"La suma total es: {suma}\")\n",
    "    \n",
    "    if opcion == \"5\": \n",
    "        condicion = 2\n",
    "        print(\"Has salido del bucle\")"
   ]
  },
  {
   "cell_type": "code",
   "execution_count": null,
   "id": "a35a43b9-3773-4919-b4be-90029cfe2da7",
   "metadata": {},
   "outputs": [],
   "source": []
  }
 ],
 "metadata": {
  "kernelspec": {
   "display_name": "Python 3 (ipykernel)",
   "language": "python",
   "name": "python3"
  },
  "language_info": {
   "codemirror_mode": {
    "name": "ipython",
    "version": 3
   },
   "file_extension": ".py",
   "mimetype": "text/x-python",
   "name": "python",
   "nbconvert_exporter": "python",
   "pygments_lexer": "ipython3",
   "version": "3.13.5"
  }
 },
 "nbformat": 4,
 "nbformat_minor": 5
}
