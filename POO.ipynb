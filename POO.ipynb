{
 "cells": [
  {
   "cell_type": "code",
   "execution_count": 10,
   "id": "618022c2-3012-437a-b150-fa35c49108d7",
   "metadata": {},
   "outputs": [
    {
     "name": "stdout",
     "output_type": "stream",
     "text": [
      "División con manejo de excepciones\n",
      "\n"
     ]
    },
    {
     "name": "stdin",
     "output_type": "stream",
     "text": [
      "Ingrese el primer numero:  1\n",
      "Ingrese el segundo numero:  0\n"
     ]
    },
    {
     "name": "stdout",
     "output_type": "stream",
     "text": [
      "No se puede dividir entre cero\n"
     ]
    },
    {
     "name": "stdin",
     "output_type": "stream",
     "text": [
      "Si deseas salir, escriba salir y si no escriba otra cosa:  no\n",
      "Ingrese el primer numero:  90\n",
      "Ingrese el segundo numero:  44\n"
     ]
    },
    {
     "name": "stdout",
     "output_type": "stream",
     "text": [
      "Resultado: 2.0454545454545454\n"
     ]
    },
    {
     "name": "stdin",
     "output_type": "stream",
     "text": [
      "Si deseas salir, escriba salir y si no escriba otra cosa:  salir\n"
     ]
    }
   ],
   "source": [
    "#Ejercicio 1: División con manejo de excepciones\n",
    "#Crea una función que pida dos números y muestre el resultado de la división.\n",
    "#Si el usuario intenta dividir entre cero, captura la excepción y muestra un mensaje: \"No se puede dividir entre cero\".\n",
    "#Usa un while True para que siga pidiendo números hasta que el usuario escriba \"salir\".\n",
    "\n",
    "print(\"División con manejo de excepciones\\n\")\n",
    "entrar = True \n",
    "\n",
    "def division(num, num1): \n",
    "    resultado = num/num1 \n",
    "    return resultado\n",
    "\n",
    "while(entrar == True): \n",
    "    try:\n",
    "        n = float(input(\"Ingrese el primer numero: \"))  \n",
    "        n2 = float(input(\"Ingrese el segundo numero: \"))  \n",
    "        print(\"Resultado:\", division(n, n2))\n",
    "    except ZeroDivisionError:\n",
    "        print(\"No se puede dividir entre cero\")\n",
    "    except ValueError:\n",
    "        print(\"Por favor ingrese un numero valido\")\n",
    "    \n",
    "    revisar = input(\"Si deseas salir, escriba salir y si no escriba otra cosa: \")\n",
    "    \n",
    "    if revisar == \"salir\":  \n",
    "        entrar = False  \n",
    "    "
   ]
  },
  {
   "cell_type": "code",
   "execution_count": 19,
   "id": "c7924eb4-7d7f-4d0c-a4c6-86d3cc1bf573",
   "metadata": {},
   "outputs": [
    {
     "name": "stdin",
     "output_type": "stream",
     "text": [
      "Escribe el nombre del estudiante:  Omar\n",
      "Escribe la edad del estudiante:  20\n",
      "Ingrese la nota 1:  98\n",
      "Ingrese la nota 2:  100\n",
      "Ingrese la nota 3:  100\n",
      "Ingrese la nota 4:  97\n",
      "Ingrese la nota 5:  96\n"
     ]
    },
    {
     "name": "stdout",
     "output_type": "stream",
     "text": [
      "DATOS DEL ESTUDIANTE:\n",
      "\n",
      "Estudiante: Nombre: Omar Edad:  20\n",
      "Calificaciones ingresadas: [98.0, 100.0, 100.0, 97.0, 96.0]\n",
      "Promedio: 98.2\n",
      "La nota mas baja es: 96.0\n",
      "La nota mas alta es: 100.0\n"
     ]
    }
   ],
   "source": [
    "#Ejercicio 2: Clase Estudiante\n",
    "#Crea una clase llamada Estudiante con:\n",
    "#Atributos: nombre, edad, notas (lista de calificaciones).\n",
    "#Método agregar_nota para añadir una nota.\n",
    "#Método promedio para calcular el promedio.\n",
    "#Método mayor_nota y menor_nota.\n",
    "#Haz un programa que cree un estudiante, le pida 5 notas al usuario y luego muestre toda su información.\n",
    "\n",
    "class Estudiante:\n",
    "    def __init__(self, nombre, edad):  \n",
    "        self.edad = edad\n",
    "        self.nombre = nombre\n",
    "        self.lista = []  \n",
    "    \n",
    "    def agregar_nota(self, calificacion): \n",
    "        self.lista.append(calificacion)\n",
    "    \n",
    "    def promedio(self): \n",
    "        return sum(self.lista) / len(self.lista)\n",
    "            \n",
    "    def mayor(self): \n",
    "        return max(self.lista)\n",
    "\n",
    "    def menor(self): \n",
    "        return min(self.lista)\n",
    "    \n",
    "    def mostrar(self):  \n",
    "        return self.lista\n",
    "\n",
    "\n",
    "nombre1 = input(\"Escribe el nombre del estudiante: \")\n",
    "edad1 = int(input(\"Escribe la edad del estudiante: \"))  \n",
    "\n",
    "\n",
    "estudiante = Estudiante(nombre1, edad1) \n",
    "\n",
    "\n",
    "for i in range(5): \n",
    "    nota = float(input(f\"Ingrese la nota {i+1}: \"))  \n",
    "    estudiante.agregar_nota(nota)  \n",
    "\n",
    "print(\"DATOS DEL ESTUDIANTE:\\n\")\n",
    "print(f\"Estudiante: Nombre:\" , estudiante.nombre,\"Edad: \", estudiante.edad)  \n",
    "print(\"Calificaciones ingresadas:\", estudiante.mostrar())  \n",
    "print(\"Promedio:\", estudiante.promedio())  \n",
    "print(\"La nota mas baja es:\", estudiante.menor()) \n",
    "print(\"La nota mas alta es:\", estudiante.mayor())  "
   ]
  },
  {
   "cell_type": "code",
   "execution_count": 5,
   "id": "7f8104a5-2499-47d4-9581-e5d7257b022c",
   "metadata": {},
   "outputs": [
    {
     "name": "stdin",
     "output_type": "stream",
     "text": [
      "SELECCIONES LA OPCION QUE DESEA REALIZAR:\n",
      "1-Depositar dinero\n",
      "2-Retirar dinero\n",
      "3-Ver saldo\n",
      "4-Salir\n",
      " 3\n"
     ]
    },
    {
     "name": "stdout",
     "output_type": "stream",
     "text": [
      "Su saldo es: 1000\n"
     ]
    },
    {
     "name": "stdin",
     "output_type": "stream",
     "text": [
      "SELECCIONES LA OPCION QUE DESEA REALIZAR:\n",
      "1-Depositar dinero\n",
      "2-Retirar dinero\n",
      "3-Ver saldo\n",
      "4-Salir\n",
      " 2\n",
      "Ingrese la cantidad a retirar:  500\n"
     ]
    },
    {
     "name": "stdout",
     "output_type": "stream",
     "text": [
      "Retiro exitoso\n"
     ]
    },
    {
     "name": "stdin",
     "output_type": "stream",
     "text": [
      "SELECCIONES LA OPCION QUE DESEA REALIZAR:\n",
      "1-Depositar dinero\n",
      "2-Retirar dinero\n",
      "3-Ver saldo\n",
      "4-Salir\n",
      " 3\n"
     ]
    },
    {
     "name": "stdout",
     "output_type": "stream",
     "text": [
      "Su saldo es: 500.0\n"
     ]
    },
    {
     "name": "stdin",
     "output_type": "stream",
     "text": [
      "SELECCIONES LA OPCION QUE DESEA REALIZAR:\n",
      "1-Depositar dinero\n",
      "2-Retirar dinero\n",
      "3-Ver saldo\n",
      "4-Salir\n",
      " 1\n",
      "Ingrese el monto a depositar:  5000\n"
     ]
    },
    {
     "name": "stdout",
     "output_type": "stream",
     "text": [
      "Depósito exitoso. Nuevo saldo: 5500.0\n"
     ]
    },
    {
     "name": "stdin",
     "output_type": "stream",
     "text": [
      "SELECCIONES LA OPCION QUE DESEA REALIZAR:\n",
      "1-Depositar dinero\n",
      "2-Retirar dinero\n",
      "3-Ver saldo\n",
      "4-Salir\n",
      " 2\n",
      "Ingrese la cantidad a retirar:  10000\n"
     ]
    },
    {
     "name": "stdout",
     "output_type": "stream",
     "text": [
      "Fondos insuficientes\n"
     ]
    },
    {
     "name": "stdin",
     "output_type": "stream",
     "text": [
      "SELECCIONES LA OPCION QUE DESEA REALIZAR:\n",
      "1-Depositar dinero\n",
      "2-Retirar dinero\n",
      "3-Ver saldo\n",
      "4-Salir\n",
      " salir\n",
      "SELECCIONES LA OPCION QUE DESEA REALIZAR:\n",
      "1-Depositar dinero\n",
      "2-Retirar dinero\n",
      "3-Ver saldo\n",
      "4-Salir\n",
      " 4\n"
     ]
    },
    {
     "name": "stdout",
     "output_type": "stream",
     "text": [
      "Haz salido del cajero\n"
     ]
    }
   ],
   "source": [
    "#### Ejercicio 3: Cajero automático (orientado a objetos + excepciones)\n",
    "#Crea una clase llamada Cajero con:\n",
    "#Atributo saldo inicial en 1000.\n",
    "#Método depositar(monto).\n",
    "#Método retirar(monto) (si el monto es mayor al saldo, lanza una excepción con un mensaje \"Fondos insuficientes\").\n",
    "#Método mostrar_saldo().\n",
    "#Haz un menú con while y input para que el usuario:\n",
    "#Deposite dinero\n",
    "#Retire dinero\n",
    "#Muestre el saldo\n",
    "#Salga\n",
    "\n",
    "\n",
    "class Cajero:\n",
    "    def __init__(self, saldo=1000):  \n",
    "        self.saldo = saldo\n",
    "        \n",
    "    \n",
    "    def depositar(self, monto):  \n",
    "        self.saldo += monto  \n",
    "        return self.saldo\n",
    "    \n",
    "    def retirar(self, monto):  \n",
    "        if monto > self.saldo:\n",
    "            raise ValueError(\"Fondos insuficientes\")\n",
    "        self.saldo -= monto\n",
    "        return self.saldo\n",
    "    \n",
    "    def mostrar_saldo(self):  \n",
    "        return self.saldo  \n",
    "\n",
    "\n",
    "cajero = Cajero()  \n",
    "entrar = True\n",
    "\n",
    "while(entrar == True):\n",
    "    opcion = input(\"SELECCIONES LA OPCION QUE DESEA REALIZAR:\\n1-Depositar dinero\\n2-Retirar dinero\\n3-Ver saldo\\n4-Salir\\n\")\n",
    "\n",
    "    if opcion == \"1\":\n",
    "        try:\n",
    "            monto = float(input(\"Ingrese el monto a depositar: \"))\n",
    "            cajero.depositar(monto)  \n",
    "            print(f\"Depósito exitoso. Nuevo saldo: {cajero.mostrar_saldo()}\")\n",
    "        except ValueError:\n",
    "            print(\"Por favor ingrese un monto válido\")\n",
    "        \n",
    "    if opcion == \"2\": \n",
    "        try:\n",
    "            cantidad = float(input(\"Ingrese la cantidad a retirar: \"))\n",
    "            cajero.retirar(cantidad)  \n",
    "            print(\"Retiro exitoso\")\n",
    "        except ValueError as e:\n",
    "            print(e)\n",
    "            \n",
    "    if opcion == \"3\":\n",
    "        print(f\"Su saldo es: {cajero.mostrar_saldo()}\")\n",
    "\n",
    "    if opcion == \"4\":\n",
    "        entrar = False\n",
    "\n",
    "print(\"Haz salido del cajero\")"
   ]
  },
  {
   "cell_type": "code",
   "execution_count": null,
   "id": "f7584a46-24aa-4bc6-8e11-4e348f279e72",
   "metadata": {},
   "outputs": [],
   "source": []
  }
 ],
 "metadata": {
  "kernelspec": {
   "display_name": "Python 3 (ipykernel)",
   "language": "python",
   "name": "python3"
  },
  "language_info": {
   "codemirror_mode": {
    "name": "ipython",
    "version": 3
   },
   "file_extension": ".py",
   "mimetype": "text/x-python",
   "name": "python",
   "nbconvert_exporter": "python",
   "pygments_lexer": "ipython3",
   "version": "3.13.5"
  }
 },
 "nbformat": 4,
 "nbformat_minor": 5
}
