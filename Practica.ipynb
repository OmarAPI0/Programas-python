{
 "cells": [
  {
   "cell_type": "code",
   "execution_count": 8,
   "id": "68d38063-67e4-48e8-b3e6-0e5a19dcd6ee",
   "metadata": {},
   "outputs": [
    {
     "name": "stdout",
     "output_type": "stream",
     "text": [
      "CONVERSOR DE MINUTOS A HORAS\n",
      "\n",
      "Ingrese la cantidad de minutos: \n"
     ]
    },
    {
     "name": "stdin",
     "output_type": "stream",
     "text": [
      "None 40\n"
     ]
    },
    {
     "name": "stdout",
     "output_type": "stream",
     "text": [
      "Eso es igual a 0.0 horas y  40.0 minutos\n"
     ]
    }
   ],
   "source": [
    "#pidele al usuario que ingrese una cantidad de minutos y \n",
    "#conviértela en horas y minutos usando la división entera (//) y el residuo (%).\n",
    "\n",
    "print(\"CONVERSOR DE MINUTOS A HORAS\\n\")\n",
    "\n",
    "minutos=float(input(print(\"Ingrese la cantidad de minutos: \")))\n",
    "hora=60\n",
    "resultado = minutos//hora\n",
    "residuo = minutos%hora\n",
    "print(\"Eso es igual a\",resultado, \"horas y \",residuo, \"minutos\")\n",
    "\n"
   ]
  },
  {
   "cell_type": "code",
   "execution_count": 20,
   "id": "ee29c15e-1a7f-4e10-b3d9-a431ccc6a2f1",
   "metadata": {},
   "outputs": [
    {
     "name": "stdout",
     "output_type": "stream",
     "text": [
      "MULTIPLICADOR DE PALABRAS\n",
      "\n",
      "Ingrese la palabra a repetir la palabra\n"
     ]
    },
    {
     "name": "stdin",
     "output_type": "stream",
     "text": [
      "None Omar\n"
     ]
    },
    {
     "name": "stdout",
     "output_type": "stream",
     "text": [
      "Ingrese la cantidad de veces que quiere imprimir la palabra\n"
     ]
    },
    {
     "name": "stdin",
     "output_type": "stream",
     "text": [
      "None 5\n"
     ]
    },
    {
     "name": "stdout",
     "output_type": "stream",
     "text": [
      "OmarOmarOmarOmarOmar\n"
     ]
    }
   ],
   "source": [
    "#Pide al usuario que escriba una palabra y un número entero.\n",
    "#Imprime la palabra repetida esa cantidad de veces (usando multiplicación con cadenas).\n",
    "\n",
    "print(\"MULTIPLICADOR DE PALABRAS\\n\")\n",
    "\n",
    "palabra = str(input(print(\"Ingrese la palabra a repetir la palabra\")))\n",
    "numero_veces = int(input(print(\"Ingrese la cantidad de veces que quiere imprimir la palabra\")))\n",
    "veces = numero_veces*palabra\n",
    "print(veces)"
   ]
  },
  {
   "cell_type": "code",
   "execution_count": 24,
   "id": "c48382a2-846e-4837-8119-16cd21199b87",
   "metadata": {},
   "outputs": [
    {
     "name": "stdout",
     "output_type": "stream",
     "text": [
      "REMPLAZADOR DE PALABRAS\n",
      "\n",
      "Ingres la frase: \n"
     ]
    },
    {
     "name": "stdin",
     "output_type": "stream",
     "text": [
      "None tu sabe que nosostros andamos a fuego\n"
     ]
    },
    {
     "name": "stdout",
     "output_type": "stream",
     "text": [
      "TU S@BE QUE NOSOSTROS @ND@MOS @ FUEGO\n"
     ]
    }
   ],
   "source": [
    "#Pide al usuario que escriba una frase. Luego:\n",
    "#Conviértela a mayúsculas (upper()).\n",
    "#Reemplaza todas las letras \"A\" por \"@\" (replace()).\n",
    "#Imprime el resultado.\n",
    "\n",
    "print(\"REMPLAZADOR DE PALABRAS\\n\")\n",
    "\n",
    "frase = (input(print(\"Ingres la frase: \")))\n",
    "mayuscula =frase.upper()\n",
    "remplazar =mayuscula.replace(\"A\",\"@\")\n",
    "print(remplazar)"
   ]
  },
  {
   "cell_type": "code",
   "execution_count": 41,
   "id": "051907ac-9991-428d-8b53-eb088fbdb0cd",
   "metadata": {},
   "outputs": [
    {
     "name": "stdout",
     "output_type": "stream",
     "text": [
      "BUSCADOR DE PALABRA\n",
      "\n",
      "Ingrese una frase\n"
     ]
    },
    {
     "name": "stdin",
     "output_type": "stream",
     "text": [
      "None pal de meses en python\n"
     ]
    },
    {
     "name": "stdout",
     "output_type": "stream",
     "text": [
      "ingrese la plabra a buscar en la frase\n"
     ]
    },
    {
     "name": "stdin",
     "output_type": "stream",
     "text": [
      "None anos\n"
     ]
    },
    {
     "name": "stdout",
     "output_type": "stream",
     "text": [
      "La palabra anos no se encontro en la frase \n"
     ]
    }
   ],
   "source": [
    "#Pide al usuario una frase y luego otra palabra. Usa find() para saber en qué posición aparece esa palabra en la frase.\n",
    "#Si no aparece, imprime \"La palabra no fue encontrada\".\n",
    "#Si aparece, imprime \"La palabra empieza en la posición X\".\n",
    "\n",
    "print(\"BUSCADOR DE PALABRA\\n\")\n",
    "\n",
    "frase = (input(print(\"Ingrese una frase\")))\n",
    "palabra = (input(print(\"ingrese la plabra a buscar en la frase\")))\n",
    "\n",
    "posicion = frase.find(palabra)\n",
    "\n",
    "\n",
    "if posicion==-1: print(f\"La palabra {palabra} no se encontro en la frase \")\n",
    "\n",
    "else : print(f\"La palabra {palabra} se encontro la plabra en la posicion:{posicion} \")\n",
    "\n"
   ]
  },
  {
   "cell_type": "code",
   "execution_count": 44,
   "id": "600987a6-f61e-4235-803d-d2965efd9a93",
   "metadata": {},
   "outputs": [
    {
     "name": "stdout",
     "output_type": "stream",
     "text": [
      "IMPRIMIR DATOS\n",
      "\n",
      "Ingres su nombre\n"
     ]
    },
    {
     "name": "stdin",
     "output_type": "stream",
     "text": [
      "None junior\n"
     ]
    },
    {
     "name": "stdout",
     "output_type": "stream",
     "text": [
      "ingrese su edad\n"
     ]
    },
    {
     "name": "stdin",
     "output_type": "stream",
     "text": [
      "None 45\n"
     ]
    },
    {
     "name": "stdout",
     "output_type": "stream",
     "text": [
      "ingrese su ciudad\n",
      "\n"
     ]
    },
    {
     "name": "stdin",
     "output_type": "stream",
     "text": [
      "None bogota\n"
     ]
    },
    {
     "name": "stdout",
     "output_type": "stream",
     "text": [
      "Hola junior\n",
      " Tienes 45 años\n",
      " Vives en bogota\n"
     ]
    }
   ],
   "source": [
    "#Haz un programa que pida al usuario:\n",
    "#Su nombre ,su edad, Su ciudad\n",
    "#Y luego imprime un mensaje en varias líneas (\\n) y con tabulaciones (\\t) que quede así:\n",
    "#Hola NOMBRE\n",
    "    #Tienes EDAD años\n",
    "    #Vives en CIUDAD\n",
    "print(\"IMPRIMIR DATOS\\n\")\n",
    "\n",
    "nombre=input(print(\"Ingres su nombre\"))\n",
    "edad=int(input(print(\"ingrese su edad\")))\n",
    "ciudad=input(print((\"ingrese su ciudad\\n\")))\n",
    "\n",
    "print(f\"Hola {nombre}\\n Tienes {edad} años\\n Vives en {ciudad}\")"
   ]
  },
  {
   "cell_type": "code",
   "execution_count": null,
   "id": "c0f59fe4-f8d8-4ff0-ae49-6c48fe25ddf2",
   "metadata": {},
   "outputs": [],
   "source": []
  }
 ],
 "metadata": {
  "kernelspec": {
   "display_name": "Python 3 (ipykernel)",
   "language": "python",
   "name": "python3"
  },
  "language_info": {
   "codemirror_mode": {
    "name": "ipython",
    "version": 3
   },
   "file_extension": ".py",
   "mimetype": "text/x-python",
   "name": "python",
   "nbconvert_exporter": "python",
   "pygments_lexer": "ipython3",
   "version": "3.13.5"
  }
 },
 "nbformat": 4,
 "nbformat_minor": 5
}
